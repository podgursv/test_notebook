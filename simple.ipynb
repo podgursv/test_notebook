#!/usr/bin/env python
# coding: utf-8

# # test

# In[1]:

